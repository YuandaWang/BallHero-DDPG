{
 "cells": [
  {
   "cell_type": "code",
   "execution_count": 31,
   "metadata": {
    "collapsed": false
   },
   "outputs": [
    {
     "name": "stdout",
     "output_type": "stream",
     "text": [
      "-15\n",
      "-31\n",
      "-49\n",
      "-63\n",
      "-71\n",
      "-80\n",
      "-87\n",
      "-100\n",
      "-117\n",
      "-131\n"
     ]
    }
   ],
   "source": [
    "import numpy as np\n",
    "import matplotlib.pyplot as plt\n",
    "import cv2\n",
    "import tensorflow as tf\n",
    "from MazeEnv_Continuous_Pic import MazeSimulator\n",
    "import time\n",
    "\n",
    "\n",
    "settings = {\n",
    "    'objects': [\n",
    "        'friend',\n",
    "        'enemy',\n",
    "    ],\n",
    "    'colors': {\n",
    "        'hero':   'yellow',\n",
    "        'friend': 'green',\n",
    "        'enemy':  'red',\n",
    "    },\n",
    "    'object_reward': {\n",
    "        'obstacle': -1,\n",
    "        'wall': -1,\n",
    "    },\n",
    "    'hero_bounces_off_walls': False,\n",
    "    'enemy_move':True,\n",
    "    'world_size': (500,500),\n",
    "    'hero_initial_position': [250, 250],\n",
    "    'hero_initial_speed':    [0,   0],\n",
    "    \"maximum_speed\":         [50, 50],\n",
    "    \"enemy_max_speed\":       [50, 50],\n",
    "    'max_angular_speed':1,\n",
    "    'max_line_speed':50,\n",
    "    'max_line_acc':200,\n",
    "    \"object_radius\": 15.0,\n",
    "    \"hero_radius\": 10,\n",
    "    'num_state':48,\n",
    "    \"num_objects\": {\n",
    "        \"friend\" : 0,\n",
    "        \"enemy\" :  20,\n",
    "    },\n",
    "    \"sim_dt\":0.1,\n",
    "}\n",
    "\n",
    "sim = MazeSimulator(settings)\n",
    "rsum = 0\n",
    "for episode in range(10):\n",
    "    for i in range(1000):\n",
    "        angular_speed = 0\n",
    "        line_speed = 0\n",
    "        s, r, d = sim.step(angular_speed, line_speed)\n",
    "        rsum += r\n",
    "        #time.sleep(0.01)\n",
    "        #sim.draw([r])\n",
    "    print rsum"
   ]
  },
  {
   "cell_type": "code",
   "execution_count": 29,
   "metadata": {
    "collapsed": false
   },
   "outputs": [
    {
     "data": {
      "image/png": "[encoded data removed]",
      "text/plain": [
       "<matplotlib.figure.Figure at 0x7f24b4577650>"
      ]
     },
     "metadata": {},
     "output_type": "display_data"
    }
   ],
   "source": [
    "plt.matshow(s)\n",
    "plt.show()"
   ]
  },
  {
   "cell_type": "code",
   "execution_count": 11,
   "metadata": {
    "collapsed": false
   },
   "outputs": [
    {
     "data": {
      "image/png": "[encoded data removed]",
      "text/plain": [
       "<matplotlib.figure.Figure at 0x7f2583f8e250>"
      ]
     },
     "metadata": {},
     "output_type": "display_data"
    }
   ],
   "source": [
    "img = np.zeros((500, 500, 3), np.uint8)\n",
    "for i in range(len(s)):\n",
    "    # draw hero\n",
    "    if i == 0:\n",
    "        cv2.circle(img, (int(s[i][0]),int(s[i][1])), 10, (255,255,255), -1)\n",
    "    else:\n",
    "        cv2.circle(img, (int(s[i][0]),int(s[i][1])), 15, (0,0,255), -1)\n",
    "\n",
    "img = cv2.cvtColor( img, cv2.COLOR_RGB2GRAY )        \n",
    "img = cv2.resize(img, (48, 48))\n",
    "img = img/255.0\n",
    "\n",
    "plt.matshow(img)\n",
    "plt.show()"
   ]
  },
  {
   "cell_type": "code",
   "execution_count": 9,
   "metadata": {
    "collapsed": false
   },
   "outputs": [
    {
     "data": {
      "text/plain": [
       "array([[ 0.        ,  0.        ,  0.        , ...,  0.        ,\n",
       "         0.        ,  0.        ],\n",
       "       [ 0.        ,  0.        ,  0.        , ...,  0.        ,\n",
       "         0.        ,  0.        ],\n",
       "       [ 0.        ,  0.        ,  0.        , ...,  0.        ,\n",
       "         0.        ,  0.        ],\n",
       "       ..., \n",
       "       [ 0.11372549,  0.11372549,  0.08627451, ...,  0.        ,\n",
       "         0.        ,  0.        ],\n",
       "       [ 0.11372549,  0.11372549,  0.11372549, ...,  0.        ,\n",
       "         0.        ,  0.        ],\n",
       "       [ 0.11372549,  0.11372549,  0.11372549, ...,  0.        ,\n",
       "         0.        ,  0.        ]])"
      ]
     },
     "execution_count": 9,
     "metadata": {},
     "output_type": "execute_result"
    }
   ],
   "source": [
    "img"
   ]
  }
 ],
 "metadata": {
  "anaconda-cloud": {},
  "kernelspec": {
   "display_name": "Python [default]",
   "language": "python",
   "name": "python2"
  },
  "language_info": {
   "codemirror_mode": {
    "name": "ipython",
    "version": 2
   },
   "file_extension": ".py",
   "mimetype": "text/x-python",
   "name": "python",
   "nbconvert_exporter": "python",
   "pygments_lexer": "ipython2",
   "version": "2.7.12"
  }
 },
 "nbformat": 4,
 "nbformat_minor": 1
}
