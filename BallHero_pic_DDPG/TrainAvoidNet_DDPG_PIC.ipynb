{
 "cells": [
  {
   "cell_type": "code",
   "execution_count": 3,
   "metadata": {
    "collapsed": false,
    "scrolled": false
   },
   "outputs": [
    {
     "name": "stdout",
     "output_type": "stream",
     "text": [
      "0.0159430503845\n",
      "0.0120990276337\n",
      "0.0117659568787\n",
      "0.0131139755249\n",
      "0.0117588043213\n",
      "0.0178101062775\n",
      "0.0153539180756\n",
      "0.0104579925537\n",
      "0.012326002121\n",
      "0.0100009441376\n",
      "0.0104060173035\n",
      "0.0107429027557\n",
      "0.0124430656433\n",
      "0.0104351043701\n",
      "0.0357220172882\n",
      "0.0148069858551\n",
      "0.0152189731598\n",
      "0.0109221935272\n",
      "0.0101919174194\n",
      "0.0119180679321\n",
      "0.0110719203949\n",
      "0.0100247859955\n",
      "0.0109448432922\n",
      "0.010183095932\n",
      "0.0106859207153\n",
      "0.0101428031921\n",
      "0.0100839138031\n",
      "0.0108151435852\n",
      "0.011293888092\n",
      "0.0104761123657\n",
      "0.0132210254669\n",
      "0.012932062149\n",
      "0.0112228393555\n",
      "0.0104548931122\n",
      "0.0111458301544\n",
      "0.0111770629883\n",
      "0.0102350711823\n",
      "0.0108540058136\n",
      "0.00991106033325\n",
      "0.00989317893982\n",
      "0.014347076416\n",
      "0.0105102062225\n",
      "0.0255270004272\n",
      "0.0118701457977\n",
      "0.0159001350403\n"
     ]
    },
    {
     "ename": "KeyboardInterrupt",
     "evalue": "",
     "output_type": "error",
     "traceback": [
      "\u001b[0;31m---------------------------------------------------------------------------\u001b[0m",
      "\u001b[0;31mKeyboardInterrupt\u001b[0m                         Traceback (most recent call last)",
      "\u001b[0;32m<ipython-input-3-6fd2bd936ed3>\u001b[0m in \u001b[0;36m<module>\u001b[0;34m()\u001b[0m\n\u001b[1;32m     85\u001b[0m     \u001b[0;32mfor\u001b[0m \u001b[0mstep\u001b[0m \u001b[0;32min\u001b[0m \u001b[0mrange\u001b[0m\u001b[0;34m(\u001b[0m\u001b[0mMaxStep\u001b[0m\u001b[0;34m)\u001b[0m\u001b[0;34m:\u001b[0m\u001b[0;34m\u001b[0m\u001b[0m\n\u001b[1;32m     86\u001b[0m         \u001b[0mtic2\u001b[0m \u001b[0;34m=\u001b[0m \u001b[0mtime\u001b[0m\u001b[0;34m.\u001b[0m\u001b[0mtime\u001b[0m\u001b[0;34m(\u001b[0m\u001b[0;34m)\u001b[0m\u001b[0;34m\u001b[0m\u001b[0m\n\u001b[0;32m---> 87\u001b[0;31m         \u001b[0maction\u001b[0m \u001b[0;34m=\u001b[0m \u001b[0msess\u001b[0m\u001b[0;34m.\u001b[0m\u001b[0mrun\u001b[0m\u001b[0;34m(\u001b[0m\u001b[0magent\u001b[0m\u001b[0;34m.\u001b[0m\u001b[0mA\u001b[0m\u001b[0;34m,\u001b[0m \u001b[0mfeed_dict\u001b[0m\u001b[0;34m=\u001b[0m\u001b[0;34m{\u001b[0m\u001b[0magent\u001b[0m\u001b[0;34m.\u001b[0m\u001b[0mS\u001b[0m\u001b[0;34m:\u001b[0m\u001b[0ms\u001b[0m\u001b[0;34m}\u001b[0m\u001b[0;34m)\u001b[0m\u001b[0;34m[\u001b[0m\u001b[0;36m0\u001b[0m\u001b[0;34m]\u001b[0m\u001b[0;34m\u001b[0m\u001b[0m\n\u001b[0m\u001b[1;32m     88\u001b[0m         \u001b[0mtoc2\u001b[0m \u001b[0;34m=\u001b[0m \u001b[0mtime\u001b[0m\u001b[0;34m.\u001b[0m\u001b[0mtime\u001b[0m\u001b[0;34m(\u001b[0m\u001b[0;34m)\u001b[0m\u001b[0;34m\u001b[0m\u001b[0m\n\u001b[1;32m     89\u001b[0m         \u001b[0;32mprint\u001b[0m \u001b[0mtoc2\u001b[0m\u001b[0;34m-\u001b[0m\u001b[0mtic2\u001b[0m\u001b[0;34m\u001b[0m\u001b[0m\n",
      "\u001b[0;32m/home/yuanda/anaconda2/lib/python2.7/site-packages/tensorflow/python/client/session.pyc\u001b[0m in \u001b[0;36mrun\u001b[0;34m(self, fetches, feed_dict, options, run_metadata)\u001b[0m\n\u001b[1;32m    380\u001b[0m     \u001b[0;32mtry\u001b[0m\u001b[0;34m:\u001b[0m\u001b[0;34m\u001b[0m\u001b[0m\n\u001b[1;32m    381\u001b[0m       result = self._run(None, fetches, feed_dict, options_ptr,\n\u001b[0;32m--> 382\u001b[0;31m                          run_metadata_ptr)\n\u001b[0m\u001b[1;32m    383\u001b[0m       \u001b[0;32mif\u001b[0m \u001b[0mrun_metadata\u001b[0m\u001b[0;34m:\u001b[0m\u001b[0;34m\u001b[0m\u001b[0m\n\u001b[1;32m    384\u001b[0m         \u001b[0mproto_data\u001b[0m \u001b[0;34m=\u001b[0m \u001b[0mtf_session\u001b[0m\u001b[0;34m.\u001b[0m\u001b[0mTF_GetBuffer\u001b[0m\u001b[0;34m(\u001b[0m\u001b[0mrun_metadata_ptr\u001b[0m\u001b[0;34m)\u001b[0m\u001b[0;34m\u001b[0m\u001b[0m\n",
      "\u001b[0;32m/home/yuanda/anaconda2/lib/python2.7/site-packages/tensorflow/python/client/session.pyc\u001b[0m in \u001b[0;36m_run\u001b[0;34m(self, handle, fetches, feed_dict, options, run_metadata)\u001b[0m\n\u001b[1;32m    653\u001b[0m     \u001b[0mmovers\u001b[0m \u001b[0;34m=\u001b[0m \u001b[0mself\u001b[0m\u001b[0;34m.\u001b[0m\u001b[0m_update_with_movers\u001b[0m\u001b[0;34m(\u001b[0m\u001b[0mfeed_dict_string\u001b[0m\u001b[0;34m,\u001b[0m \u001b[0mfeed_map\u001b[0m\u001b[0;34m)\u001b[0m\u001b[0;34m\u001b[0m\u001b[0m\n\u001b[1;32m    654\u001b[0m     results = self._do_run(handle, target_list, unique_fetches,\n\u001b[0;32m--> 655\u001b[0;31m                            feed_dict_string, options, run_metadata)\n\u001b[0m\u001b[1;32m    656\u001b[0m \u001b[0;34m\u001b[0m\u001b[0m\n\u001b[1;32m    657\u001b[0m     \u001b[0;31m# User may have fetched the same tensor multiple times, but we\u001b[0m\u001b[0;34m\u001b[0m\u001b[0;34m\u001b[0m\u001b[0m\n",
      "\u001b[0;32m/home/yuanda/anaconda2/lib/python2.7/site-packages/tensorflow/python/client/session.pyc\u001b[0m in \u001b[0;36m_do_run\u001b[0;34m(self, handle, target_list, fetch_list, feed_dict, options, run_metadata)\u001b[0m\n\u001b[1;32m    721\u001b[0m     \u001b[0;32mif\u001b[0m \u001b[0mhandle\u001b[0m \u001b[0;32mis\u001b[0m \u001b[0mNone\u001b[0m\u001b[0;34m:\u001b[0m\u001b[0;34m\u001b[0m\u001b[0m\n\u001b[1;32m    722\u001b[0m       return self._do_call(_run_fn, self._session, feed_dict, fetch_list,\n\u001b[0;32m--> 723\u001b[0;31m                            target_list, options, run_metadata)\n\u001b[0m\u001b[1;32m    724\u001b[0m     \u001b[0;32melse\u001b[0m\u001b[0;34m:\u001b[0m\u001b[0;34m\u001b[0m\u001b[0m\n\u001b[1;32m    725\u001b[0m       return self._do_call(_prun_fn, self._session, handle, feed_dict,\n",
      "\u001b[0;32m/home/yuanda/anaconda2/lib/python2.7/site-packages/tensorflow/python/client/session.pyc\u001b[0m in \u001b[0;36m_do_call\u001b[0;34m(self, fn, *args)\u001b[0m\n\u001b[1;32m    728\u001b[0m   \u001b[0;32mdef\u001b[0m \u001b[0m_do_call\u001b[0m\u001b[0;34m(\u001b[0m\u001b[0mself\u001b[0m\u001b[0;34m,\u001b[0m \u001b[0mfn\u001b[0m\u001b[0;34m,\u001b[0m \u001b[0;34m*\u001b[0m\u001b[0margs\u001b[0m\u001b[0;34m)\u001b[0m\u001b[0;34m:\u001b[0m\u001b[0;34m\u001b[0m\u001b[0m\n\u001b[1;32m    729\u001b[0m     \u001b[0;32mtry\u001b[0m\u001b[0;34m:\u001b[0m\u001b[0;34m\u001b[0m\u001b[0m\n\u001b[0;32m--> 730\u001b[0;31m       \u001b[0;32mreturn\u001b[0m \u001b[0mfn\u001b[0m\u001b[0;34m(\u001b[0m\u001b[0;34m*\u001b[0m\u001b[0margs\u001b[0m\u001b[0;34m)\u001b[0m\u001b[0;34m\u001b[0m\u001b[0m\n\u001b[0m\u001b[1;32m    731\u001b[0m     \u001b[0;32mexcept\u001b[0m \u001b[0merrors\u001b[0m\u001b[0;34m.\u001b[0m\u001b[0mOpError\u001b[0m \u001b[0;32mas\u001b[0m \u001b[0me\u001b[0m\u001b[0;34m:\u001b[0m\u001b[0;34m\u001b[0m\u001b[0m\n\u001b[1;32m    732\u001b[0m       \u001b[0mmessage\u001b[0m \u001b[0;34m=\u001b[0m \u001b[0mcompat\u001b[0m\u001b[0;34m.\u001b[0m\u001b[0mas_text\u001b[0m\u001b[0;34m(\u001b[0m\u001b[0me\u001b[0m\u001b[0;34m.\u001b[0m\u001b[0mmessage\u001b[0m\u001b[0;34m)\u001b[0m\u001b[0;34m\u001b[0m\u001b[0m\n",
      "\u001b[0;32m/home/yuanda/anaconda2/lib/python2.7/site-packages/tensorflow/python/client/session.pyc\u001b[0m in \u001b[0;36m_run_fn\u001b[0;34m(session, feed_dict, fetch_list, target_list, options, run_metadata)\u001b[0m\n\u001b[1;32m    710\u001b[0m         return tf_session.TF_Run(session, options,\n\u001b[1;32m    711\u001b[0m                                  \u001b[0mfeed_dict\u001b[0m\u001b[0;34m,\u001b[0m \u001b[0mfetch_list\u001b[0m\u001b[0;34m,\u001b[0m \u001b[0mtarget_list\u001b[0m\u001b[0;34m,\u001b[0m\u001b[0;34m\u001b[0m\u001b[0m\n\u001b[0;32m--> 712\u001b[0;31m                                  status, run_metadata)\n\u001b[0m\u001b[1;32m    713\u001b[0m \u001b[0;34m\u001b[0m\u001b[0m\n\u001b[1;32m    714\u001b[0m     \u001b[0;32mdef\u001b[0m \u001b[0m_prun_fn\u001b[0m\u001b[0;34m(\u001b[0m\u001b[0msession\u001b[0m\u001b[0;34m,\u001b[0m \u001b[0mhandle\u001b[0m\u001b[0;34m,\u001b[0m \u001b[0mfeed_dict\u001b[0m\u001b[0;34m,\u001b[0m \u001b[0mfetch_list\u001b[0m\u001b[0;34m)\u001b[0m\u001b[0;34m:\u001b[0m\u001b[0;34m\u001b[0m\u001b[0m\n",
      "\u001b[0;31mKeyboardInterrupt\u001b[0m: "
     ]
    }
   ],
   "source": [
    "# Continuous Obstacle Avoidance with DDPG network use picture input\n",
    "\n",
    "import numpy as np\n",
    "import matplotlib.pyplot as plt\n",
    "import tensorflow as tf\n",
    "from MazeEnv_Continuous_Pic import MazeSimulator\n",
    "from DDPG_Agent_Conv import DDPG_Agent_Conv\n",
    "import gym\n",
    "import random\n",
    "from IPython.display import clear_output\n",
    "import time\n",
    "\n",
    "settings = {\n",
    "    'objects': [\n",
    "        'friend',\n",
    "        'enemy',\n",
    "    ],\n",
    "    'colors': {\n",
    "        'hero':   'yellow',\n",
    "        'friend': 'green',\n",
    "        'enemy':  'red',\n",
    "    },\n",
    "    'object_reward': {\n",
    "        'obstacle': -1,\n",
    "        'wall': -1,\n",
    "    },\n",
    "    'hero_bounces_off_walls': False,\n",
    "    'enemy_move':True,\n",
    "    'world_size': (500,500),\n",
    "    'hero_initial_position': [250, 250],\n",
    "    'hero_initial_speed':    [0,   0],\n",
    "    \"maximum_speed\":         [10, 10],\n",
    "    \"enemy_max_speed\":       [50, 50],\n",
    "    'max_angular_speed':1,\n",
    "    'max_line_speed':50,\n",
    "    'max_line_acc':200,\n",
    "    \"object_radius\": 15.0,\n",
    "    \"hero_radius\": 10,\n",
    "    \"num_objects\": {\n",
    "        \"friend\" : 0,\n",
    "        \"enemy\" :  20,\n",
    "    },\n",
    "    'num_action':2,\n",
    "    'num_state':48,\n",
    "    \"sim_dt\":0.1,\n",
    "    'DDPG':{\n",
    "        'net_structure':'CONV',\n",
    "        'learning_rate_A':0.0001,\n",
    "        'learning_rate_C':0.001,\n",
    "        'gamma':0.99,\n",
    "        'batch_size':32,\n",
    "        'replay_buffer_size':1000000,\n",
    "        'soft_update_rate':0.001,\n",
    "        'USECONV':False,\n",
    "        'num_conv1':32,\n",
    "        'num_conv2':64,\n",
    "        'num_fc1':512,\n",
    "        'num_fc2':128,\n",
    "    }\n",
    "}\n",
    "DEBUG = False\n",
    "sim = MazeSimulator(settings)\n",
    "tf.reset_default_graph()\n",
    "sess = tf.Session()\n",
    "agent = DDPG_Agent_Conv(settings, sess)\n",
    "if DEBUG:\n",
    "    MaxEpisode = 1\n",
    "    MaxStep = 1\n",
    "else:\n",
    "    MaxEpisode = 50000\n",
    "    MaxStep = 1000\n",
    "sigma = 0.5\n",
    "trainsteps = 0\n",
    "rlog = []\n",
    "for episode in range(MaxEpisode):\n",
    "    sim = MazeSimulator(settings)\n",
    "    s = sim.observe()\n",
    "    rsum = 0\n",
    "    losslog = []\n",
    "    for step in range(MaxStep):\n",
    "        action = sess.run(agent.A, feed_dict={agent.S:s})[0]\n",
    "        a0 = np.clip(np.random.normal(action[0], sigma), -1, 1)\n",
    "        a1 = np.clip(np.random.normal(action[1], sigma), -1, 1)\n",
    "\n",
    "        action = [float(a0), float(a1)]\n",
    "        s1, r, d = sim.step(*action)\n",
    "        agent.buffer_add(s, action, r, s1, d)\n",
    "        rsum += r\n",
    "        # train\n",
    "        if agent.buffer_ready:\n",
    "            loss = agent.train_it()\n",
    "            losslog.append(loss)\n",
    "            trainsteps += 1\n",
    "            sigma *= 0.999999\n",
    "        s = s1\n",
    "        #sim.draw([action, r])\n",
    "        \n",
    "        \n",
    "    # End of Episode\n",
    "    rlog.append(rsum)\n",
    "    if episode % 100 == 0:\n",
    "        plt.plot(rlog)\n",
    "        plt.show()\n",
    "        \n",
    "    if agent.buffer_ready:\n",
    "        print trainsteps, 'Episode', episode, 'rsum:', rsum, 'sigma:', sigma\n",
    "    else:\n",
    "        print trainsteps, 'Episode', episode, 'rsum:', rsum, 'lenbuff', len(agent.exp_buffer)"
   ]
  },
  {
   "cell_type": "code",
   "execution_count": 5,
   "metadata": {
    "collapsed": false
   },
   "outputs": [
    {
     "data": {
      "image/png": "[encoded data removed]",
      "text/plain": [
       "<matplotlib.figure.Figure at 0x7f59d44537d0>"
      ]
     },
     "metadata": {},
     "output_type": "display_data"
    }
   ],
   "source": [
    "s = np.reshape(s,[48,48])\n",
    "plt.matshow(s)\n",
    "plt.show()"
   ]
  },
  {
   "cell_type": "code",
   "execution_count": null,
   "metadata": {
    "collapsed": false
   },
   "outputs": [],
   "source": [
    "plt.plot(rlog)\n",
    "plt.show()"
   ]
  },
  {
   "cell_type": "code",
   "execution_count": null,
   "metadata": {
    "collapsed": false
   },
   "outputs": [],
   "source": [
    "demo_episode = 10\n",
    "demo_step = 500\n",
    "for episode in range(demo_episode):\n",
    "    sim = MazeSimulator(settings)\n",
    "    s = sim.observe()\n",
    "    rsum = 0\n",
    "    for step in range(demo_step):\n",
    "        action = sess.run(agent.A, feed_dict={agent.S:[s]})[0]\n",
    "        a0 = np.clip(np.random.normal(action[0], sigma), -1, 1)\n",
    "        a1 = np.clip(np.random.normal(action[1], sigma), -1, 1)\n",
    "        s1, r, d = sim.step(float(a0), float(a1))\n",
    "        sim.draw([action,r])\n",
    "        s = s1\n",
    "        if d: break"
   ]
  },
  {
   "cell_type": "code",
   "execution_count": 11,
   "metadata": {
    "collapsed": false
   },
   "outputs": [
    {
     "name": "stdout",
     "output_type": "stream",
     "text": [
      "[[[1 2]\n",
      "  [3 4]]\n",
      "\n",
      " [[1 2]\n",
      "  [3 4]]\n",
      "\n",
      " [[1 2]\n",
      "  [3 4]]]\n"
     ]
    }
   ],
   "source": [
    "a = np.array([[1,2,3,4],[1,2,3,4],[1,2,3,4]])\n",
    "b = np.reshape(a, [3,2,2])\n",
    "print b"
   ]
  }
 ],
 "metadata": {
  "anaconda-cloud": {},
  "kernelspec": {
   "display_name": "Python [default]",
   "language": "python",
   "name": "python2"
  },
  "language_info": {
   "codemirror_mode": {
    "name": "ipython",
    "version": 2
   },
   "file_extension": ".py",
   "mimetype": "text/x-python",
   "name": "python",
   "nbconvert_exporter": "python",
   "pygments_lexer": "ipython2",
   "version": "2.7.12"
  }
 },
 "nbformat": 4,
 "nbformat_minor": 1
}
