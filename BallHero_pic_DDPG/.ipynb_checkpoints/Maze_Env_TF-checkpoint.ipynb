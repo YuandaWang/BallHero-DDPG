{
 "cells": [
  {
   "cell_type": "code",
   "execution_count": null,
   "metadata": {
    "collapsed": true
   },
   "outputs": [],
   "source": [
    "import math\n",
    "import matplotlib.pyplot as plt\n",
    "import numpy as np\n",
    "import random\n",
    "import time\n",
    "import cv2\n",
    "\n",
    "from collections import defaultdict\n",
    "from euclid import Circle, Point2, Vector2, LineSegment2\n",
    "\n",
    "import svg\n",
    "from IPython.display import clear_output, display, HTML\n",
    "\n",
    "class BallEnv():\n",
    "    def __init__(self,settings, session):\n",
    "        self.settings = settings\n",
    "        self.sizeX = settings['world_size'][0]\n",
    "        self.sizeY = settings['world_size'][1]\n",
    "        self.num_obj = settings['num_objects']\n",
    "        self.max_speed = settings['max_line_speed']\n",
    "        # tensors\n",
    "        Pos = tf.Variables(tf.random_uniform([self.num_obj, 2], maxval = self.sizeX))\n",
    "        Vel = tf.Variables(tf.random_uniform([self.num_obj, 2], maxval = self.max_speed))\n",
    "        heroPos = tf.Variable(tf.zeros([1, 2]))\n",
    "        heroVel = tf.Varibale(tf.zeros([1, 2]))\n",
    "        \n",
    "        self.sess = session\n",
    "        "
   ]
  },
  {
   "cell_type": "code",
   "execution_count": null,
   "metadata": {
    "collapsed": true
   },
   "outputs": [],
   "source": [
    "init = tf.initialize_all_varibales()\n",
    "self."
   ]
  }
 ],
 "metadata": {
  "anaconda-cloud": {},
  "kernelspec": {
   "display_name": "Python [default]",
   "language": "python",
   "name": "python2"
  },
  "language_info": {
   "codemirror_mode": {
    "name": "ipython",
    "version": 2
   },
   "file_extension": ".py",
   "mimetype": "text/x-python",
   "name": "python",
   "nbconvert_exporter": "python",
   "pygments_lexer": "ipython2",
   "version": "2.7.12"
  }
 },
 "nbformat": 4,
 "nbformat_minor": 2
}
