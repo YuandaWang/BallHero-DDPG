{
 "cells": [
  {
   "cell_type": "code",
   "execution_count": null,
   "metadata": {
    "collapsed": false
   },
   "outputs": [],
   "source": [
    "# Continuous Pendulum with DDPG\n",
    "\n",
    "import numpy as np\n",
    "import matplotlib.pyplot as plt\n",
    "import tensorflow as tf\n",
    "from DDPG_Agent import DDPG_Agent\n",
    "import gym\n",
    "\n",
    "settings = {\n",
    "    \"num_state\": 3,\n",
    "    'num_action':1,\n",
    "    'DDPG':{\n",
    "        'learning_rate_A':0.01,\n",
    "        'learning_rate_C':0.01,\n",
    "        'gamma':0.95,\n",
    "        'batch_size':32,\n",
    "        'replay_buffer_size':5000,\n",
    "        'soft_update_rate':0.1,\n",
    "        'num_hidden':20,\n",
    "    }\n",
    "}"
   ]
  },
  {
   "cell_type": "code",
   "execution_count": null,
   "metadata": {
    "collapsed": false,
    "scrolled": true
   },
   "outputs": [],
   "source": [
    "# test with pendulum\n",
    "env = gym.make('Pendulum-v0')\n",
    "tf.reset_default_graph()\n",
    "sess = tf.Session()\n",
    "RL = DDPG_Agent(settings, sess)\n",
    "sigma = 3\n",
    "rlog = []\n",
    "for episode in range(300):\n",
    "    s = env.reset()\n",
    "    rsum = 0\n",
    "    for step in range(200):\n",
    "        action = sess.run(RL.A, feed_dict={RL.S:[s]})[0]\n",
    "        action = [np.clip(np.random.normal(action, sigma), -1, 1)]\n",
    "        s1, r, d, info = env.step(action)\n",
    "        rsum += r\n",
    "        RL.buffer_add(s, action, r, s1, d)\n",
    "        if RL.buffer_ready:\n",
    "            RL.train_it()\n",
    "            sigma *= 0.99995\n",
    "        if d: break\n",
    "        s = s1\n",
    "    # End of episode\n",
    "    rlog.append(rsum)\n",
    "    if RL.buffer_ready:\n",
    "        print 'episode:', episode, 'reward:', rsum, sigma"
   ]
  },
  {
   "cell_type": "code",
   "execution_count": null,
   "metadata": {
    "collapsed": false,
    "scrolled": false
   },
   "outputs": [],
   "source": [
    "plt.plot(rlog)\n",
    "# demostration\n",
    "for episode in range(1000):\n",
    "    s = env.reset()\n",
    "    for step in range(200):\n",
    "        action = sess.run(RL.A, feed_dict={RL.S:[s]})[0]\n",
    "        s, r, d, info = env.step(action)\n",
    "        env.render()\n",
    "        if d: break\n",
    "    "
   ]
  },
  {
   "cell_type": "code",
   "execution_count": null,
   "metadata": {
    "collapsed": true
   },
   "outputs": [],
   "source": []
  }
 ],
 "metadata": {
  "anaconda-cloud": {},
  "kernelspec": {
   "display_name": "Python [default]",
   "language": "python",
   "name": "python2"
  },
  "language_info": {
   "codemirror_mode": {
    "name": "ipython",
    "version": 2
   },
   "file_extension": ".py",
   "mimetype": "text/x-python",
   "name": "python",
   "nbconvert_exporter": "python",
   "pygments_lexer": "ipython2",
   "version": "2.7.12"
  }
 },
 "nbformat": 4,
 "nbformat_minor": 1
}
